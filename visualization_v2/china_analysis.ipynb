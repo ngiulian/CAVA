{
 "cells": [
  {
   "cell_type": "code",
   "execution_count": 1,
   "metadata": {},
   "outputs": [],
   "source": [
    "import pandas as pd\n",
    "\n",
    "models = ['gpt-3.5-turbo', 'Llama-2-70b-chat-hf', 'Llama-3-70b-chat-hf', 'Mixtral-8x22B-Instruct-v0.1', 'Qwen1.5-72B-Chat']\n",
    "dfs = [pd.read_csv(f'../data/responses/test/{model_name}_responses.csv') for model_name in models]"
   ]
  },
  {
   "cell_type": "code",
   "execution_count": 8,
   "metadata": {},
   "outputs": [
    {
     "name": "stdout",
     "output_type": "stream",
     "text": [
      "gpt-3.5-turbo - Average Soft Metric Version 0: 0.752345398482354\n",
      "gpt-3.5-turbo - Average Soft Metric Version 1: 0.744024482813489\n",
      "gpt-3.5-turbo - Average Soft Metric Version 2: 0.7350608255738859\n",
      "\n",
      "Llama-2-70b-chat-hf - Average Soft Metric Version 0: 0.7333046429769111\n",
      "Llama-2-70b-chat-hf - Average Soft Metric Version 1: 0.6723966250501376\n",
      "Llama-2-70b-chat-hf - Average Soft Metric Version 2: 0.7069156505001447\n",
      "\n",
      "Llama-3-70b-chat-hf - Average Soft Metric Version 0: 0.7890079954891707\n",
      "Llama-3-70b-chat-hf - Average Soft Metric Version 1: 0.7633715071357879\n",
      "Llama-3-70b-chat-hf - Average Soft Metric Version 2: 0.7643982407334753\n",
      "\n",
      "Mixtral-8x22B-Instruct-v0.1 - Average Soft Metric Version 0: 0.8393898799532252\n",
      "Mixtral-8x22B-Instruct-v0.1 - Average Soft Metric Version 1: 0.8262162588079845\n",
      "Mixtral-8x22B-Instruct-v0.1 - Average Soft Metric Version 2: 0.8428540941764758\n",
      "\n",
      "Qwen1.5-72B-Chat - Average Soft Metric Version 0: 0.8232472688541044\n",
      "Qwen1.5-72B-Chat - Average Soft Metric Version 1: 0.8301817057612599\n",
      "Qwen1.5-72B-Chat - Average Soft Metric Version 2: 0.7990286820429837\n",
      "\n"
     ]
    }
   ],
   "source": [
    "for model, df in zip(models, dfs):\n",
    "    chinese_df = df[df['country'] == 'China']\n",
    "    print(f\"{model} - Average Soft Metric Version 0: {chinese_df['soft_metric_0'].mean()}\")\n",
    "    print(f\"{model} - Average Soft Metric Version 1: {chinese_df['soft_metric_1'].mean()}\")\n",
    "    print(f\"{model} - Average Soft Metric Version 2: {chinese_df['soft_metric_2'].mean()}\")\n",
    "    print()"
   ]
  },
  {
   "cell_type": "code",
   "execution_count": 9,
   "metadata": {},
   "outputs": [
    {
     "name": "stdout",
     "output_type": "stream",
     "text": [
      "gpt-3.5-turbo - Average Soft Metric Version 0: 0.712731718637023\n",
      "gpt-3.5-turbo - Average Soft Metric Version 1: 0.7148830723480355\n",
      "gpt-3.5-turbo - Average Soft Metric Version 2: 0.7122278609242658\n",
      "\n",
      "Llama-2-70b-chat-hf - Average Soft Metric Version 0: 0.6935439397911862\n",
      "Llama-2-70b-chat-hf - Average Soft Metric Version 1: 0.6871261123534658\n",
      "Llama-2-70b-chat-hf - Average Soft Metric Version 2: 0.6705492985268977\n",
      "\n",
      "Llama-3-70b-chat-hf - Average Soft Metric Version 0: 0.758382639036352\n",
      "Llama-3-70b-chat-hf - Average Soft Metric Version 1: 0.7630722357289388\n",
      "Llama-3-70b-chat-hf - Average Soft Metric Version 2: 0.7614177294996274\n",
      "\n",
      "Mixtral-8x22B-Instruct-v0.1 - Average Soft Metric Version 0: 0.7850852356037623\n",
      "Mixtral-8x22B-Instruct-v0.1 - Average Soft Metric Version 1: 0.7848220516457305\n",
      "Mixtral-8x22B-Instruct-v0.1 - Average Soft Metric Version 2: 0.786507821977426\n",
      "\n",
      "Qwen1.5-72B-Chat - Average Soft Metric Version 0: 0.7759815410675445\n",
      "Qwen1.5-72B-Chat - Average Soft Metric Version 1: 0.7741811116135844\n",
      "Qwen1.5-72B-Chat - Average Soft Metric Version 2: 0.7759072857752584\n",
      "\n"
     ]
    }
   ],
   "source": [
    "for model, df in zip(models, dfs):\n",
    "    print(f\"{model} - Average Soft Metric Version 0: {df['soft_metric_0'].mean()}\")\n",
    "    print(f\"{model} - Average Soft Metric Version 1: {df['soft_metric_1'].mean()}\")\n",
    "    print(f\"{model} - Average Soft Metric Version 2: {df['soft_metric_2'].mean()}\")\n",
    "    print()"
   ]
  }
 ],
 "metadata": {
  "kernelspec": {
   "display_name": ".venv",
   "language": "python",
   "name": "python3"
  },
  "language_info": {
   "codemirror_mode": {
    "name": "ipython",
    "version": 3
   },
   "file_extension": ".py",
   "mimetype": "text/x-python",
   "name": "python",
   "nbconvert_exporter": "python",
   "pygments_lexer": "ipython3",
   "version": "3.8.1"
  }
 },
 "nbformat": 4,
 "nbformat_minor": 2
}
